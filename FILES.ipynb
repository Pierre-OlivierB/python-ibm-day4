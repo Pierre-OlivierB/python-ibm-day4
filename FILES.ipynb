{
 "cells": [
  {
   "cell_type": "markdown",
   "metadata": {},
   "source": [
    "# Manipulation des fichiers avec Python\n",
    " \n",
    "\n",
    "1. fichiers de type texte\n",
    "\n",
    "2. fichiers CSV : Comma Separated Values\n",
    "\n"
   ]
  },
  {
   "cell_type": "markdown",
   "metadata": {},
   "source": [
    "# 1. Fichiers de type texte \n",
    "\n",
    "Lorsque l'on fait : `fh = open('un_fichier')` on crée une instance `fh` (file-handler) : qui n'est pas un fichier mais un objet permettant d'y acceder. On appelle `fh` un  fileObject. \n",
    "\n",
    "Parmi les méthodes qui s'appliquent à `fh` il y a `read, write, open, close` (... et d'autres)\n"
   ]
  },
  {
   "cell_type": "code",
   "execution_count": null,
   "metadata": {},
   "outputs": [],
   "source": [
    "fh = open('my_file','r')  \n",
    "\n",
    "# Cela provoque une erreur. Savez-vous dire pour quelle raison ? "
   ]
  },
  {
   "cell_type": "markdown",
   "metadata": {},
   "source": [
    "- `r` for reading – The file pointer is placed at the beginning of the file. This is the default mode.\n",
    "- `r+` Opens a file for both reading and writing. The file pointer will be at the beginning of the file.\n",
    "- `w` Opens a file for writing only. Overwrites the file if the file exists. If the file does not exist, creates a new file for writing.\n",
    "- `w+` Opens a file for both writing and reading. Overwrites the existing file if the file exists. If the file does not exist, it creates a new file for reading and writing.\n",
    "- `rb` Opens a file for reading only in binary format. The file pointer is placed at the beginning of the file.\n",
    "- `rb+` Opens a file for both reading and writing in binary format.\n",
    "- `wb+` Opens a file for both writing and reading in binary format. Overwrites the existing file if the file exists. If the file does not exist, it creates a new file for reading and writing.\n",
    "- `a` Opens a file for appending. The file pointer is at the end of the file if the file exists. That is, the file is in the append mode. If the file does not exist, it creates a new file for writing.\n",
    "- `ab` Opens a file for appending in binary format. The file pointer is at the end of the file if the file exists. That is, the file is in the append mode. If the file does not exist, it creates a new file for writing.\n",
    "- `a+` Opens a file for both appending and reading. The file pointer is at the end of the file if the file exists. The file opens in the append mode. If the file does not exist, it creates a new file for reading and writing.\n",
    "- `ab+` Opens a file for both appending and reading in binary format. The file pointer is at the end of the file if the file exists. The file opens in the append mode. If the file does not exist, it creates a new file for reading and writing.\n",
    "- `x` open for exclusive creation, failing if the file already exists (Python 3)\n",
    "\n",
    "\n",
    "(source : Eyehunts)"
   ]
  },
  {
   "cell_type": "code",
   "execution_count": null,
   "metadata": {},
   "outputs": [],
   "source": [
    "fh = open('my_file','a') # ouvre en mode append (addition) \n",
    "                         # et crée le fichier s'il n'existait pas déjà. \n",
    "\n",
    "fh = open('my_file','w') # ouvre en mode écriture \n",
    "                         # et crée le fichier s'il n'existait pas déjà. \n",
    "                         # et repart du début, doonc efface le fichier s'il \n",
    "                         # existait déjà. "
   ]
  },
  {
   "cell_type": "code",
   "execution_count": null,
   "metadata": {},
   "outputs": [],
   "source": [
    "# 'x' crée le fichier (et renvoie une erreur s'il existait déjà \n",
    "# c'est plus sûr dans certains cas de tester si un fichier existe avant de \n",
    "# voouloir le créer. \n",
    "\n",
    "try : \n",
    "    fh = open('my_file','r')\n",
    "except: \n",
    "    print(\"R : Error file does not exist ! \")\n",
    "    \n",
    "# ou bien :   \n",
    "\n",
    "try :  \n",
    "    fh = open('my_file','x')\n",
    "except: \n",
    "    print(\"X : Error file already exists ! \")\n",
    "    \n",
    "# Executez cette cellulee deux fois et expliquez les résultats"
   ]
  },
  {
   "cell_type": "code",
   "execution_count": null,
   "metadata": {},
   "outputs": [],
   "source": [
    "fh = open('my_file', 'w')\n",
    "\n",
    "fh.write(\"Hello !\\n\")"
   ]
  },
  {
   "cell_type": "code",
   "execution_count": null,
   "metadata": {},
   "outputs": [],
   "source": [
    "fh.write(\"Hello World!\")"
   ]
  },
  {
   "cell_type": "code",
   "execution_count": null,
   "metadata": {},
   "outputs": [],
   "source": [
    "text = fh.read()\n",
    "# erreur, expliquez pourquoi "
   ]
  },
  {
   "cell_type": "markdown",
   "metadata": {},
   "source": [
    "\n",
    "On peut aussi utiliser Jupyter Notebooko pour voir cee qu'il y a dans le fichier,\n",
    "\n",
    "on devrait le trouver vide... \n",
    "\n",
    "Pourquoi ? "
   ]
  },
  {
   "cell_type": "code",
   "execution_count": null,
   "metadata": {},
   "outputs": [],
   "source": [
    "# ceci aura pour effet d'écrire lee fichier de manière persistante dans le répertoire\n",
    "fh.close()"
   ]
  },
  {
   "cell_type": "code",
   "execution_count": null,
   "metadata": {},
   "outputs": [],
   "source": [
    "fh.read()  # produit encore une erreur, pourquoi ? \n"
   ]
  },
  {
   "cell_type": "code",
   "execution_count": null,
   "metadata": {},
   "outputs": [],
   "source": [
    "fh = open('my_file')"
   ]
  },
  {
   "cell_type": "code",
   "execution_count": null,
   "metadata": {},
   "outputs": [],
   "source": [
    "fh.read()"
   ]
  },
  {
   "cell_type": "code",
   "execution_count": null,
   "metadata": {},
   "outputs": [],
   "source": [
    "fh = open('my_file')\n",
    "for line in fh.read():\n",
    "    print(line)"
   ]
  },
  {
   "cell_type": "code",
   "execution_count": null,
   "metadata": {},
   "outputs": [],
   "source": [
    "fh = open('my_file')\n",
    "for line in fh.readlines():\n",
    "    print(line)"
   ]
  },
  {
   "cell_type": "code",
   "execution_count": null,
   "metadata": {},
   "outputs": [],
   "source": [
    "fh = open(\"my_file\", \"r\")\n",
    "myline = fh.readline()\n",
    "while myline:\n",
    "    print(myline)\n",
    "    myline = fh.readline()\n",
    "fh.close()   "
   ]
  },
  {
   "cell_type": "code",
   "execution_count": null,
   "metadata": {},
   "outputs": [],
   "source": [
    "import os \n",
    "os.remove('my_file')"
   ]
  },
  {
   "cell_type": "markdown",
   "metadata": {},
   "source": [
    "# 2. CSV\n",
    "\n",
    "Les fichiers CSV sont très utilisées car elles permettent un niveau très simple pour l'échange des données (quasiment pas de syntaxe), et permettent par exemple d'interfacer avec les feuilles de calcul (aka fichiers Excel®).\n",
    "\n",
    "En général leur type (extension) est .csv , et ils structurent les données en lignes, chaque élément de donnée est séparé par une virgule (comma) `,`, il peuvent contenir une ligne de \"header\" : \n",
    "\n",
    "\n",
    "`Name, Firstname, City, Age`\n",
    "\n",
    "`Berger, Alice, Marseille, 34`\n",
    "\n",
    "`Vernet, Bertrand, Angers, 32`\n",
    "\n",
    "`Jordes, Charles, Lyon, 29`\n",
    "\n",
    "`Duchamps, Eve, Bordeaux, 30`\n",
    "\n",
    "\n",
    "Les feuilles de clacul peuvent poser des problèmes :  \n",
    "\n",
    "https://www.youtube.com/watch?v=zUp8pkoeMss\n",
    "\n",
    "https://www.youtube.com/watch?v=yb2zkxHDfUE\n",
    "\n",
    "mieux vaut utiliser Python ! "
   ]
  },
  {
   "cell_type": "code",
   "execution_count": null,
   "metadata": {},
   "outputs": [],
   "source": [
    "# exemple\n",
    "\n",
    "fh = open(\"my_file.csv\", \"w\")\n",
    "fh.write('Name, Firstname, City, Age\\n')\n",
    "fh.write('Berger, Alice, Marseille, 34\\n')\n",
    "fh.write('Vernet, Bertrand, Angers, 32\\n')\n",
    "fh.write('Jordes, Charles, Lyon, 29\\n')\n",
    "fh.write('Duchamps, Eve, Bordeaux, 30\\n')\n",
    "fh.close()"
   ]
  },
  {
   "cell_type": "code",
   "execution_count": null,
   "metadata": {},
   "outputs": [],
   "source": [
    "# il y a une bibliothèque pour ça: \n",
    "import csv"
   ]
  },
  {
   "cell_type": "markdown",
   "metadata": {},
   "source": [
    "## On veut obtenir l'âge moyen des personnes du fichier\n"
   ]
  },
  {
   "cell_type": "code",
   "execution_count": null,
   "metadata": {},
   "outputs": [],
   "source": [
    "# csv.reader lit lese lignes du fichier dans des listes \n",
    "fh = open(\"my_file.csv\")\n",
    "spamreader = csv.reader(fh, delimiter=',')\n",
    "for row in spamreader:\n",
    "    print(row)"
   ]
  },
  {
   "cell_type": "markdown",
   "metadata": {},
   "source": [
    "Pour obtenir lese âges :"
   ]
  },
  {
   "cell_type": "code",
   "execution_count": null,
   "metadata": {},
   "outputs": [],
   "source": [
    "# on utilise le quatrième élément dee chaque liste \n",
    "fh = open(\"my_file.csv\")\n",
    "spamreader = csv.reader(fh, delimiter=',')\n",
    "for row in spamreader:\n",
    "    print(row[3])"
   ]
  },
  {
   "cell_type": "markdown",
   "metadata": {},
   "source": [
    "On n'a pas besoin de l'entête (header) :"
   ]
  },
  {
   "cell_type": "code",
   "execution_count": null,
   "metadata": {},
   "outputs": [],
   "source": [
    "# On utilise \"next\" avant d'itérer\n",
    "fh = open(\"my_file.csv\")\n",
    "spamreader = csv.reader(fh, delimiter=',')\n",
    "next(spamreader)\n",
    "for row in spamreader:\n",
    "    print(row[3])"
   ]
  },
  {
   "cell_type": "markdown",
   "metadata": {},
   "source": [
    "on peut maintenant calculer la moyenne"
   ]
  },
  {
   "cell_type": "code",
   "execution_count": null,
   "metadata": {},
   "outputs": [],
   "source": [
    "# try it\n",
    "count = 0\n",
    "somme = 0 \n",
    "fh = open(\"my_file.csv\")\n",
    "spamreader = csv.reader(fh, delimiter=',')\n",
    "next(spamreader)\n",
    "for row in spamreader:\n",
    "    count = count + 1 \n",
    "    somme = somme + int(row[3])\n",
    "\n",
    "    \n",
    "print(somme/count)"
   ]
  },
  {
   "cell_type": "markdown",
   "metadata": {},
   "source": [
    "## Challenge : \n",
    "\n",
    "Let us use opendata.gouv : \n",
    "- https://www.data.gouv.fr/fr/\n",
    "- Données relatives à la santé et à la Covid 19 (https://www.data.gouv.fr/fr/pages/donnees-sante/)\n",
    "- Inventaire des données relatives à la Covid (https://www.data.gouv.fr/fr/pages/donnees-coronavirus/)\n",
    "- Sites de prélèvement pour les tests COVID (https://www.data.gouv.fr/fr/datasets/sites-de-prelevements-pour-les-tests-covid/) \n",
    "\n",
    "Download the file : sites-prelevements-grand-public.csv (1.2Mo) \n",
    "\n",
    "How many sites are around Lille (Lille center = 50° 38' 14\" Nord , 3° 03' 48\" East), we will consider 20 km wide square to say a site is around Lille ? \n",
    "\n",
    "- 1 latitude minute (N-S) is approx 2 km\n",
    "\n",
    "- 1 longitude minute (W-E) is approx 1,2 km\n"
   ]
  },
  {
   "cell_type": "code",
   "execution_count": null,
   "metadata": {},
   "outputs": [],
   "source": [
    "# calculate the min and max longitute and latitude around Lille coordinates, definging a 20 km x 20 km square\n",
    "\n",
    "lille_long = 3 + 3/60 + 48/3600\n",
    "lille_lat  = 50 + 38/60 + 14/3600\n",
    "\n",
    "lille_max_long = 3 + 11 / 60 + 48 / 3600\n",
    "lille_min_long = 2 +  55 / 60 + 48 / 3600\n",
    "\n",
    "lille_max_lat = 50 + 48 / 60 + 14 / 3600\n",
    "lille_min_lat = 50 + 28 / 60 + 14 / 3600\n",
    "\n",
    "\n",
    "print(lille_min_long)\n",
    "print(lille_long)\n",
    "print(lille_max_long)\n",
    "\n",
    "print(lille_min_lat)\n",
    "print(lille_lat)\n",
    "print(lille_max_lat)"
   ]
  },
  {
   "cell_type": "code",
   "execution_count": null,
   "metadata": {},
   "outputs": [],
   "source": [
    "# make a first run browsing the .csv file to get the latitudes and longitudes (almost same code as above) \n",
    "fh = open(\"sites-prelevements-grand-public.csv\")\n",
    "spamreader = csv.reader(fh, delimiter=',')\n",
    "next(spamreader)\n",
    "count = 0 \n",
    "for row in spamreader:\n",
    "    try: \n",
    "        lat = float(row[9])\n",
    "    except: \n",
    "        next(spamreader)\n",
    "        \n",
    "    try:\n",
    "        lon = float(row[8])\n",
    "    except: \n",
    "        next(spamreader)\n",
    "        \n",
    "    if lat < lille_max_lat and lat  > float(lille_min_lat) and lon > lille_min_long and lon < lille_max_long:\n",
    "        print(row[4],'long=',row[8],'lat =', row[9])\n",
    "        count = count + 1 \n",
    "\n",
    "print('there are ', count ,'locations available')"
   ]
  },
  {
   "cell_type": "code",
   "execution_count": null,
   "metadata": {},
   "outputs": [],
   "source": [
    "# select and count only the ones with the desired coordinates, print their address and coordinates.\n",
    "# csv reader provides strings, we need to convert to float\n",
    "# there are defects in the file... !"
   ]
  }
 ],
 "metadata": {
  "kernelspec": {
   "display_name": "Python 3 (ipykernel)",
   "language": "python",
   "name": "python3"
  },
  "language_info": {
   "codemirror_mode": {
    "name": "ipython",
    "version": 3
   },
   "file_extension": ".py",
   "mimetype": "text/x-python",
   "name": "python",
   "nbconvert_exporter": "python",
   "pygments_lexer": "ipython3",
   "version": "3.8.5"
  }
 },
 "nbformat": 4,
 "nbformat_minor": 4
}
